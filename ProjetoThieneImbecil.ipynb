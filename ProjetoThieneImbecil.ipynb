{
  "nbformat": 4,
  "nbformat_minor": 0,
  "metadata": {
    "colab": {
      "provenance": [],
      "authorship_tag": "ABX9TyN33ds16wAGZ8r69aaL8g9E",
      "include_colab_link": true
    },
    "kernelspec": {
      "name": "python3",
      "display_name": "Python 3"
    },
    "language_info": {
      "name": "python"
    }
  },
  "cells": [
    {
      "cell_type": "markdown",
      "metadata": {
        "id": "view-in-github",
        "colab_type": "text"
      },
      "source": [
        "<a href=\"https://colab.research.google.com/github/brenobraguim/ApiNetCore/blob/master/ProjetoThieneImbecil.ipynb\" target=\"_parent\"><img src=\"https://colab.research.google.com/assets/colab-badge.svg\" alt=\"Open In Colab\"/></a>"
      ]
    },
    {
      "cell_type": "markdown",
      "source": [
        "Importando as bibliotecas"
      ],
      "metadata": {
        "id": "VyfOHiA_8eo8"
      }
    },
    {
      "cell_type": "code",
      "execution_count": 2,
      "metadata": {
        "id": "xTsAYaNhGcL5"
      },
      "outputs": [],
      "source": [
        "import pandas as pd\n",
        "import numpy as np"
      ]
    },
    {
      "cell_type": "markdown",
      "source": [
        "Lendo a base pra dentro do código"
      ],
      "metadata": {
        "id": "CaUeLOaR8ioz"
      }
    },
    {
      "cell_type": "code",
      "source": [
        "df=pd.read_csv(\"TourdeFrance.csv\")"
      ],
      "metadata": {
        "id": "c9mV6oDMHPxk"
      },
      "execution_count": 27,
      "outputs": []
    },
    {
      "cell_type": "markdown",
      "source": [
        "Verificando quais dados estão sem informação"
      ],
      "metadata": {
        "id": "qT6tJXsH85ZC"
      }
    },
    {
      "cell_type": "code",
      "source": [
        "df.info\n",
        "df.isnull().sum()"
      ],
      "metadata": {
        "colab": {
          "base_uri": "https://localhost:8080/"
        },
        "id": "cQcUMCy_I8Cj",
        "outputId": "1d1b711d-2038-45d4-b676-0f1c4719cb96"
      },
      "execution_count": 28,
      "outputs": [
        {
          "output_type": "execute_result",
          "data": {
            "text/plain": [
              "edition           0\n",
              "start_date        0\n",
              "winner_name       0\n",
              "winner_team       0\n",
              "distance          0\n",
              "time_overall      8\n",
              "time_margin       8\n",
              "stage_wins        0\n",
              "stages_led        0\n",
              "height           40\n",
              "weight           39\n",
              "age               0\n",
              "born              0\n",
              "died             50\n",
              "full_name        60\n",
              "nickname         32\n",
              "birth_town        0\n",
              "birth_country     0\n",
              "nationality       0\n",
              "dtype: int64"
            ]
          },
          "metadata": {},
          "execution_count": 28
        }
      ]
    },
    {
      "cell_type": "markdown",
      "source": [],
      "metadata": {
        "id": "l5_EmABG8-Sx"
      }
    },
    {
      "cell_type": "code",
      "source": [
        "df=df.replace(\" \",np.nan)"
      ],
      "metadata": {
        "id": "KgXDCaERKZBG"
      },
      "execution_count": 29,
      "outputs": []
    },
    {
      "cell_type": "code",
      "source": [
        "df=df.dropna()"
      ],
      "metadata": {
        "id": "kCn31S-HKgDt"
      },
      "execution_count": 30,
      "outputs": []
    },
    {
      "cell_type": "code",
      "source": [
        "df.isnull().sum()"
      ],
      "metadata": {
        "colab": {
          "base_uri": "https://localhost:8080/"
        },
        "id": "Ix6CTn8RKmq2",
        "outputId": "3837ad61-1272-4527-8752-3daef0f01455"
      },
      "execution_count": 31,
      "outputs": [
        {
          "output_type": "execute_result",
          "data": {
            "text/plain": [
              "edition          0\n",
              "start_date       0\n",
              "winner_name      0\n",
              "winner_team      0\n",
              "distance         0\n",
              "time_overall     0\n",
              "time_margin      0\n",
              "stage_wins       0\n",
              "stages_led       0\n",
              "height           0\n",
              "weight           0\n",
              "age              0\n",
              "born             0\n",
              "died             0\n",
              "full_name        0\n",
              "nickname         0\n",
              "birth_town       0\n",
              "birth_country    0\n",
              "nationality      0\n",
              "dtype: int64"
            ]
          },
          "metadata": {},
          "execution_count": 31
        }
      ]
    },
    {
      "cell_type": "code",
      "source": [
        "df.head(10)"
      ],
      "metadata": {
        "colab": {
          "base_uri": "https://localhost:8080/",
          "height": 413
        },
        "id": "lE8ITy4PLASa",
        "outputId": "8a3fe576-2ebc-4824-802c-42b9f0d537fe"
      },
      "execution_count": 32,
      "outputs": [
        {
          "output_type": "execute_result",
          "data": {
            "text/plain": [
              "    edition  start_date     winner_name  winner_team  distance  time_overall  \\\n",
              "35       36  1949-06-30    Fausto Coppi        Italy    4808.0    149.680278   \n",
              "38       39  1952-06-25    Fausto Coppi        Italy    4898.0    151.955556   \n",
              "69       70  1983-07-01  Laurent Fignon  Renault–Elf    3809.0    105.131111   \n",
              "70       71  1984-06-29  Laurent Fignon  Renault–Elf    4021.0    112.061111   \n",
              "\n",
              "    time_margin  stage_wins  stages_led  height  weight  age        born  \\\n",
              "35     0.169444           3           5    1.77    68.0   29  1919-09-15   \n",
              "38     0.474444           5          14    1.77    68.0   30  1919-09-15   \n",
              "69     0.067778           1           6    1.74    67.0   22  1960-08-12   \n",
              "70     0.169444           5           7    1.74    67.0   23  1960-08-12   \n",
              "\n",
              "          died               full_name  \\\n",
              "35  1960-01-02     Angelo Fausto Coppi   \n",
              "38  1960-01-02     Angelo Fausto Coppi   \n",
              "69  2010-08-31  Laurent Patrick Fignon   \n",
              "70  2010-08-31  Laurent Patrick Fignon   \n",
              "\n",
              "                                             nickname   birth_town  \\\n",
              "35  The Heron,Il Campionissimo\\r\\n(Champion of Cha...  Castellania   \n",
              "38  The Heron,Il Campionissimo\\r\\n(Champion of Cha...  Castellania   \n",
              "69                      Le Professeur (The Professor)        Paris   \n",
              "70                      Le Professeur (The Professor)        Paris   \n",
              "\n",
              "   birth_country nationality  \n",
              "35         Italy       Italy  \n",
              "38         Italy       Italy  \n",
              "69        France      France  \n",
              "70        France      France  "
            ],
            "text/html": [
              "\n",
              "  <div id=\"df-874a702a-3400-43ae-ba64-e5d09399de5a\">\n",
              "    <div class=\"colab-df-container\">\n",
              "      <div>\n",
              "<style scoped>\n",
              "    .dataframe tbody tr th:only-of-type {\n",
              "        vertical-align: middle;\n",
              "    }\n",
              "\n",
              "    .dataframe tbody tr th {\n",
              "        vertical-align: top;\n",
              "    }\n",
              "\n",
              "    .dataframe thead th {\n",
              "        text-align: right;\n",
              "    }\n",
              "</style>\n",
              "<table border=\"1\" class=\"dataframe\">\n",
              "  <thead>\n",
              "    <tr style=\"text-align: right;\">\n",
              "      <th></th>\n",
              "      <th>edition</th>\n",
              "      <th>start_date</th>\n",
              "      <th>winner_name</th>\n",
              "      <th>winner_team</th>\n",
              "      <th>distance</th>\n",
              "      <th>time_overall</th>\n",
              "      <th>time_margin</th>\n",
              "      <th>stage_wins</th>\n",
              "      <th>stages_led</th>\n",
              "      <th>height</th>\n",
              "      <th>weight</th>\n",
              "      <th>age</th>\n",
              "      <th>born</th>\n",
              "      <th>died</th>\n",
              "      <th>full_name</th>\n",
              "      <th>nickname</th>\n",
              "      <th>birth_town</th>\n",
              "      <th>birth_country</th>\n",
              "      <th>nationality</th>\n",
              "    </tr>\n",
              "  </thead>\n",
              "  <tbody>\n",
              "    <tr>\n",
              "      <th>35</th>\n",
              "      <td>36</td>\n",
              "      <td>1949-06-30</td>\n",
              "      <td>Fausto Coppi</td>\n",
              "      <td>Italy</td>\n",
              "      <td>4808.0</td>\n",
              "      <td>149.680278</td>\n",
              "      <td>0.169444</td>\n",
              "      <td>3</td>\n",
              "      <td>5</td>\n",
              "      <td>1.77</td>\n",
              "      <td>68.0</td>\n",
              "      <td>29</td>\n",
              "      <td>1919-09-15</td>\n",
              "      <td>1960-01-02</td>\n",
              "      <td>Angelo Fausto Coppi</td>\n",
              "      <td>The Heron,Il Campionissimo\\r\\n(Champion of Cha...</td>\n",
              "      <td>Castellania</td>\n",
              "      <td>Italy</td>\n",
              "      <td>Italy</td>\n",
              "    </tr>\n",
              "    <tr>\n",
              "      <th>38</th>\n",
              "      <td>39</td>\n",
              "      <td>1952-06-25</td>\n",
              "      <td>Fausto Coppi</td>\n",
              "      <td>Italy</td>\n",
              "      <td>4898.0</td>\n",
              "      <td>151.955556</td>\n",
              "      <td>0.474444</td>\n",
              "      <td>5</td>\n",
              "      <td>14</td>\n",
              "      <td>1.77</td>\n",
              "      <td>68.0</td>\n",
              "      <td>30</td>\n",
              "      <td>1919-09-15</td>\n",
              "      <td>1960-01-02</td>\n",
              "      <td>Angelo Fausto Coppi</td>\n",
              "      <td>The Heron,Il Campionissimo\\r\\n(Champion of Cha...</td>\n",
              "      <td>Castellania</td>\n",
              "      <td>Italy</td>\n",
              "      <td>Italy</td>\n",
              "    </tr>\n",
              "    <tr>\n",
              "      <th>69</th>\n",
              "      <td>70</td>\n",
              "      <td>1983-07-01</td>\n",
              "      <td>Laurent Fignon</td>\n",
              "      <td>Renault–Elf</td>\n",
              "      <td>3809.0</td>\n",
              "      <td>105.131111</td>\n",
              "      <td>0.067778</td>\n",
              "      <td>1</td>\n",
              "      <td>6</td>\n",
              "      <td>1.74</td>\n",
              "      <td>67.0</td>\n",
              "      <td>22</td>\n",
              "      <td>1960-08-12</td>\n",
              "      <td>2010-08-31</td>\n",
              "      <td>Laurent Patrick Fignon</td>\n",
              "      <td>Le Professeur (The Professor)</td>\n",
              "      <td>Paris</td>\n",
              "      <td>France</td>\n",
              "      <td>France</td>\n",
              "    </tr>\n",
              "    <tr>\n",
              "      <th>70</th>\n",
              "      <td>71</td>\n",
              "      <td>1984-06-29</td>\n",
              "      <td>Laurent Fignon</td>\n",
              "      <td>Renault–Elf</td>\n",
              "      <td>4021.0</td>\n",
              "      <td>112.061111</td>\n",
              "      <td>0.169444</td>\n",
              "      <td>5</td>\n",
              "      <td>7</td>\n",
              "      <td>1.74</td>\n",
              "      <td>67.0</td>\n",
              "      <td>23</td>\n",
              "      <td>1960-08-12</td>\n",
              "      <td>2010-08-31</td>\n",
              "      <td>Laurent Patrick Fignon</td>\n",
              "      <td>Le Professeur (The Professor)</td>\n",
              "      <td>Paris</td>\n",
              "      <td>France</td>\n",
              "      <td>France</td>\n",
              "    </tr>\n",
              "  </tbody>\n",
              "</table>\n",
              "</div>\n",
              "      <button class=\"colab-df-convert\" onclick=\"convertToInteractive('df-874a702a-3400-43ae-ba64-e5d09399de5a')\"\n",
              "              title=\"Convert this dataframe to an interactive table.\"\n",
              "              style=\"display:none;\">\n",
              "        \n",
              "  <svg xmlns=\"http://www.w3.org/2000/svg\" height=\"24px\"viewBox=\"0 0 24 24\"\n",
              "       width=\"24px\">\n",
              "    <path d=\"M0 0h24v24H0V0z\" fill=\"none\"/>\n",
              "    <path d=\"M18.56 5.44l.94 2.06.94-2.06 2.06-.94-2.06-.94-.94-2.06-.94 2.06-2.06.94zm-11 1L8.5 8.5l.94-2.06 2.06-.94-2.06-.94L8.5 2.5l-.94 2.06-2.06.94zm10 10l.94 2.06.94-2.06 2.06-.94-2.06-.94-.94-2.06-.94 2.06-2.06.94z\"/><path d=\"M17.41 7.96l-1.37-1.37c-.4-.4-.92-.59-1.43-.59-.52 0-1.04.2-1.43.59L10.3 9.45l-7.72 7.72c-.78.78-.78 2.05 0 2.83L4 21.41c.39.39.9.59 1.41.59.51 0 1.02-.2 1.41-.59l7.78-7.78 2.81-2.81c.8-.78.8-2.07 0-2.86zM5.41 20L4 18.59l7.72-7.72 1.47 1.35L5.41 20z\"/>\n",
              "  </svg>\n",
              "      </button>\n",
              "      \n",
              "  <style>\n",
              "    .colab-df-container {\n",
              "      display:flex;\n",
              "      flex-wrap:wrap;\n",
              "      gap: 12px;\n",
              "    }\n",
              "\n",
              "    .colab-df-convert {\n",
              "      background-color: #E8F0FE;\n",
              "      border: none;\n",
              "      border-radius: 50%;\n",
              "      cursor: pointer;\n",
              "      display: none;\n",
              "      fill: #1967D2;\n",
              "      height: 32px;\n",
              "      padding: 0 0 0 0;\n",
              "      width: 32px;\n",
              "    }\n",
              "\n",
              "    .colab-df-convert:hover {\n",
              "      background-color: #E2EBFA;\n",
              "      box-shadow: 0px 1px 2px rgba(60, 64, 67, 0.3), 0px 1px 3px 1px rgba(60, 64, 67, 0.15);\n",
              "      fill: #174EA6;\n",
              "    }\n",
              "\n",
              "    [theme=dark] .colab-df-convert {\n",
              "      background-color: #3B4455;\n",
              "      fill: #D2E3FC;\n",
              "    }\n",
              "\n",
              "    [theme=dark] .colab-df-convert:hover {\n",
              "      background-color: #434B5C;\n",
              "      box-shadow: 0px 1px 3px 1px rgba(0, 0, 0, 0.15);\n",
              "      filter: drop-shadow(0px 1px 2px rgba(0, 0, 0, 0.3));\n",
              "      fill: #FFFFFF;\n",
              "    }\n",
              "  </style>\n",
              "\n",
              "      <script>\n",
              "        const buttonEl =\n",
              "          document.querySelector('#df-874a702a-3400-43ae-ba64-e5d09399de5a button.colab-df-convert');\n",
              "        buttonEl.style.display =\n",
              "          google.colab.kernel.accessAllowed ? 'block' : 'none';\n",
              "\n",
              "        async function convertToInteractive(key) {\n",
              "          const element = document.querySelector('#df-874a702a-3400-43ae-ba64-e5d09399de5a');\n",
              "          const dataTable =\n",
              "            await google.colab.kernel.invokeFunction('convertToInteractive',\n",
              "                                                     [key], {});\n",
              "          if (!dataTable) return;\n",
              "\n",
              "          const docLinkHtml = 'Like what you see? Visit the ' +\n",
              "            '<a target=\"_blank\" href=https://colab.research.google.com/notebooks/data_table.ipynb>data table notebook</a>'\n",
              "            + ' to learn more about interactive tables.';\n",
              "          element.innerHTML = '';\n",
              "          dataTable['output_type'] = 'display_data';\n",
              "          await google.colab.output.renderOutput(dataTable, element);\n",
              "          const docLink = document.createElement('div');\n",
              "          docLink.innerHTML = docLinkHtml;\n",
              "          element.appendChild(docLink);\n",
              "        }\n",
              "      </script>\n",
              "    </div>\n",
              "  </div>\n",
              "  "
            ]
          },
          "metadata": {},
          "execution_count": 32
        }
      ]
    },
    {
      "cell_type": "code",
      "source": [
        "df.dtypes"
      ],
      "metadata": {
        "colab": {
          "base_uri": "https://localhost:8080/"
        },
        "id": "7wMqD2UFLJzU",
        "outputId": "e40b317f-12af-41f6-f443-e084f014e7b0"
      },
      "execution_count": 33,
      "outputs": [
        {
          "output_type": "execute_result",
          "data": {
            "text/plain": [
              "edition            int64\n",
              "start_date        object\n",
              "winner_name       object\n",
              "winner_team       object\n",
              "distance         float64\n",
              "time_overall     float64\n",
              "time_margin      float64\n",
              "stage_wins         int64\n",
              "stages_led         int64\n",
              "height           float64\n",
              "weight           float64\n",
              "age                int64\n",
              "born              object\n",
              "died              object\n",
              "full_name         object\n",
              "nickname          object\n",
              "birth_town        object\n",
              "birth_country     object\n",
              "nationality       object\n",
              "dtype: object"
            ]
          },
          "metadata": {},
          "execution_count": 33
        }
      ]
    },
    {
      "cell_type": "code",
      "source": [
        "df=df.set_index(\"start_date\")"
      ],
      "metadata": {
        "id": "iQr0wG6zLjRf"
      },
      "execution_count": 34,
      "outputs": []
    },
    {
      "cell_type": "code",
      "source": [
        "df.head(10)"
      ],
      "metadata": {
        "colab": {
          "base_uri": "https://localhost:8080/",
          "height": 444
        },
        "id": "Vc5LWk_SMU1h",
        "outputId": "18c925cb-5ef8-4a5a-9685-0b93779e1fb1"
      },
      "execution_count": 35,
      "outputs": [
        {
          "output_type": "execute_result",
          "data": {
            "text/plain": [
              "            edition     winner_name  winner_team  distance  time_overall  \\\n",
              "start_date                                                                 \n",
              "1949-06-30       36    Fausto Coppi        Italy    4808.0    149.680278   \n",
              "1952-06-25       39    Fausto Coppi        Italy    4898.0    151.955556   \n",
              "1983-07-01       70  Laurent Fignon  Renault–Elf    3809.0    105.131111   \n",
              "1984-06-29       71  Laurent Fignon  Renault–Elf    4021.0    112.061111   \n",
              "\n",
              "            time_margin  stage_wins  stages_led  height  weight  age  \\\n",
              "start_date                                                             \n",
              "1949-06-30     0.169444           3           5    1.77    68.0   29   \n",
              "1952-06-25     0.474444           5          14    1.77    68.0   30   \n",
              "1983-07-01     0.067778           1           6    1.74    67.0   22   \n",
              "1984-06-29     0.169444           5           7    1.74    67.0   23   \n",
              "\n",
              "                  born        died               full_name  \\\n",
              "start_date                                                   \n",
              "1949-06-30  1919-09-15  1960-01-02     Angelo Fausto Coppi   \n",
              "1952-06-25  1919-09-15  1960-01-02     Angelo Fausto Coppi   \n",
              "1983-07-01  1960-08-12  2010-08-31  Laurent Patrick Fignon   \n",
              "1984-06-29  1960-08-12  2010-08-31  Laurent Patrick Fignon   \n",
              "\n",
              "                                                     nickname   birth_town  \\\n",
              "start_date                                                                   \n",
              "1949-06-30  The Heron,Il Campionissimo\\r\\n(Champion of Cha...  Castellania   \n",
              "1952-06-25  The Heron,Il Campionissimo\\r\\n(Champion of Cha...  Castellania   \n",
              "1983-07-01                      Le Professeur (The Professor)        Paris   \n",
              "1984-06-29                      Le Professeur (The Professor)        Paris   \n",
              "\n",
              "           birth_country nationality  \n",
              "start_date                            \n",
              "1949-06-30         Italy       Italy  \n",
              "1952-06-25         Italy       Italy  \n",
              "1983-07-01        France      France  \n",
              "1984-06-29        France      France  "
            ],
            "text/html": [
              "\n",
              "  <div id=\"df-21fdb95b-7a4e-4748-b15c-c63aed8b0564\">\n",
              "    <div class=\"colab-df-container\">\n",
              "      <div>\n",
              "<style scoped>\n",
              "    .dataframe tbody tr th:only-of-type {\n",
              "        vertical-align: middle;\n",
              "    }\n",
              "\n",
              "    .dataframe tbody tr th {\n",
              "        vertical-align: top;\n",
              "    }\n",
              "\n",
              "    .dataframe thead th {\n",
              "        text-align: right;\n",
              "    }\n",
              "</style>\n",
              "<table border=\"1\" class=\"dataframe\">\n",
              "  <thead>\n",
              "    <tr style=\"text-align: right;\">\n",
              "      <th></th>\n",
              "      <th>edition</th>\n",
              "      <th>winner_name</th>\n",
              "      <th>winner_team</th>\n",
              "      <th>distance</th>\n",
              "      <th>time_overall</th>\n",
              "      <th>time_margin</th>\n",
              "      <th>stage_wins</th>\n",
              "      <th>stages_led</th>\n",
              "      <th>height</th>\n",
              "      <th>weight</th>\n",
              "      <th>age</th>\n",
              "      <th>born</th>\n",
              "      <th>died</th>\n",
              "      <th>full_name</th>\n",
              "      <th>nickname</th>\n",
              "      <th>birth_town</th>\n",
              "      <th>birth_country</th>\n",
              "      <th>nationality</th>\n",
              "    </tr>\n",
              "    <tr>\n",
              "      <th>start_date</th>\n",
              "      <th></th>\n",
              "      <th></th>\n",
              "      <th></th>\n",
              "      <th></th>\n",
              "      <th></th>\n",
              "      <th></th>\n",
              "      <th></th>\n",
              "      <th></th>\n",
              "      <th></th>\n",
              "      <th></th>\n",
              "      <th></th>\n",
              "      <th></th>\n",
              "      <th></th>\n",
              "      <th></th>\n",
              "      <th></th>\n",
              "      <th></th>\n",
              "      <th></th>\n",
              "      <th></th>\n",
              "    </tr>\n",
              "  </thead>\n",
              "  <tbody>\n",
              "    <tr>\n",
              "      <th>1949-06-30</th>\n",
              "      <td>36</td>\n",
              "      <td>Fausto Coppi</td>\n",
              "      <td>Italy</td>\n",
              "      <td>4808.0</td>\n",
              "      <td>149.680278</td>\n",
              "      <td>0.169444</td>\n",
              "      <td>3</td>\n",
              "      <td>5</td>\n",
              "      <td>1.77</td>\n",
              "      <td>68.0</td>\n",
              "      <td>29</td>\n",
              "      <td>1919-09-15</td>\n",
              "      <td>1960-01-02</td>\n",
              "      <td>Angelo Fausto Coppi</td>\n",
              "      <td>The Heron,Il Campionissimo\\r\\n(Champion of Cha...</td>\n",
              "      <td>Castellania</td>\n",
              "      <td>Italy</td>\n",
              "      <td>Italy</td>\n",
              "    </tr>\n",
              "    <tr>\n",
              "      <th>1952-06-25</th>\n",
              "      <td>39</td>\n",
              "      <td>Fausto Coppi</td>\n",
              "      <td>Italy</td>\n",
              "      <td>4898.0</td>\n",
              "      <td>151.955556</td>\n",
              "      <td>0.474444</td>\n",
              "      <td>5</td>\n",
              "      <td>14</td>\n",
              "      <td>1.77</td>\n",
              "      <td>68.0</td>\n",
              "      <td>30</td>\n",
              "      <td>1919-09-15</td>\n",
              "      <td>1960-01-02</td>\n",
              "      <td>Angelo Fausto Coppi</td>\n",
              "      <td>The Heron,Il Campionissimo\\r\\n(Champion of Cha...</td>\n",
              "      <td>Castellania</td>\n",
              "      <td>Italy</td>\n",
              "      <td>Italy</td>\n",
              "    </tr>\n",
              "    <tr>\n",
              "      <th>1983-07-01</th>\n",
              "      <td>70</td>\n",
              "      <td>Laurent Fignon</td>\n",
              "      <td>Renault–Elf</td>\n",
              "      <td>3809.0</td>\n",
              "      <td>105.131111</td>\n",
              "      <td>0.067778</td>\n",
              "      <td>1</td>\n",
              "      <td>6</td>\n",
              "      <td>1.74</td>\n",
              "      <td>67.0</td>\n",
              "      <td>22</td>\n",
              "      <td>1960-08-12</td>\n",
              "      <td>2010-08-31</td>\n",
              "      <td>Laurent Patrick Fignon</td>\n",
              "      <td>Le Professeur (The Professor)</td>\n",
              "      <td>Paris</td>\n",
              "      <td>France</td>\n",
              "      <td>France</td>\n",
              "    </tr>\n",
              "    <tr>\n",
              "      <th>1984-06-29</th>\n",
              "      <td>71</td>\n",
              "      <td>Laurent Fignon</td>\n",
              "      <td>Renault–Elf</td>\n",
              "      <td>4021.0</td>\n",
              "      <td>112.061111</td>\n",
              "      <td>0.169444</td>\n",
              "      <td>5</td>\n",
              "      <td>7</td>\n",
              "      <td>1.74</td>\n",
              "      <td>67.0</td>\n",
              "      <td>23</td>\n",
              "      <td>1960-08-12</td>\n",
              "      <td>2010-08-31</td>\n",
              "      <td>Laurent Patrick Fignon</td>\n",
              "      <td>Le Professeur (The Professor)</td>\n",
              "      <td>Paris</td>\n",
              "      <td>France</td>\n",
              "      <td>France</td>\n",
              "    </tr>\n",
              "  </tbody>\n",
              "</table>\n",
              "</div>\n",
              "      <button class=\"colab-df-convert\" onclick=\"convertToInteractive('df-21fdb95b-7a4e-4748-b15c-c63aed8b0564')\"\n",
              "              title=\"Convert this dataframe to an interactive table.\"\n",
              "              style=\"display:none;\">\n",
              "        \n",
              "  <svg xmlns=\"http://www.w3.org/2000/svg\" height=\"24px\"viewBox=\"0 0 24 24\"\n",
              "       width=\"24px\">\n",
              "    <path d=\"M0 0h24v24H0V0z\" fill=\"none\"/>\n",
              "    <path d=\"M18.56 5.44l.94 2.06.94-2.06 2.06-.94-2.06-.94-.94-2.06-.94 2.06-2.06.94zm-11 1L8.5 8.5l.94-2.06 2.06-.94-2.06-.94L8.5 2.5l-.94 2.06-2.06.94zm10 10l.94 2.06.94-2.06 2.06-.94-2.06-.94-.94-2.06-.94 2.06-2.06.94z\"/><path d=\"M17.41 7.96l-1.37-1.37c-.4-.4-.92-.59-1.43-.59-.52 0-1.04.2-1.43.59L10.3 9.45l-7.72 7.72c-.78.78-.78 2.05 0 2.83L4 21.41c.39.39.9.59 1.41.59.51 0 1.02-.2 1.41-.59l7.78-7.78 2.81-2.81c.8-.78.8-2.07 0-2.86zM5.41 20L4 18.59l7.72-7.72 1.47 1.35L5.41 20z\"/>\n",
              "  </svg>\n",
              "      </button>\n",
              "      \n",
              "  <style>\n",
              "    .colab-df-container {\n",
              "      display:flex;\n",
              "      flex-wrap:wrap;\n",
              "      gap: 12px;\n",
              "    }\n",
              "\n",
              "    .colab-df-convert {\n",
              "      background-color: #E8F0FE;\n",
              "      border: none;\n",
              "      border-radius: 50%;\n",
              "      cursor: pointer;\n",
              "      display: none;\n",
              "      fill: #1967D2;\n",
              "      height: 32px;\n",
              "      padding: 0 0 0 0;\n",
              "      width: 32px;\n",
              "    }\n",
              "\n",
              "    .colab-df-convert:hover {\n",
              "      background-color: #E2EBFA;\n",
              "      box-shadow: 0px 1px 2px rgba(60, 64, 67, 0.3), 0px 1px 3px 1px rgba(60, 64, 67, 0.15);\n",
              "      fill: #174EA6;\n",
              "    }\n",
              "\n",
              "    [theme=dark] .colab-df-convert {\n",
              "      background-color: #3B4455;\n",
              "      fill: #D2E3FC;\n",
              "    }\n",
              "\n",
              "    [theme=dark] .colab-df-convert:hover {\n",
              "      background-color: #434B5C;\n",
              "      box-shadow: 0px 1px 3px 1px rgba(0, 0, 0, 0.15);\n",
              "      filter: drop-shadow(0px 1px 2px rgba(0, 0, 0, 0.3));\n",
              "      fill: #FFFFFF;\n",
              "    }\n",
              "  </style>\n",
              "\n",
              "      <script>\n",
              "        const buttonEl =\n",
              "          document.querySelector('#df-21fdb95b-7a4e-4748-b15c-c63aed8b0564 button.colab-df-convert');\n",
              "        buttonEl.style.display =\n",
              "          google.colab.kernel.accessAllowed ? 'block' : 'none';\n",
              "\n",
              "        async function convertToInteractive(key) {\n",
              "          const element = document.querySelector('#df-21fdb95b-7a4e-4748-b15c-c63aed8b0564');\n",
              "          const dataTable =\n",
              "            await google.colab.kernel.invokeFunction('convertToInteractive',\n",
              "                                                     [key], {});\n",
              "          if (!dataTable) return;\n",
              "\n",
              "          const docLinkHtml = 'Like what you see? Visit the ' +\n",
              "            '<a target=\"_blank\" href=https://colab.research.google.com/notebooks/data_table.ipynb>data table notebook</a>'\n",
              "            + ' to learn more about interactive tables.';\n",
              "          element.innerHTML = '';\n",
              "          dataTable['output_type'] = 'display_data';\n",
              "          await google.colab.output.renderOutput(dataTable, element);\n",
              "          const docLink = document.createElement('div');\n",
              "          docLink.innerHTML = docLinkHtml;\n",
              "          element.appendChild(docLink);\n",
              "        }\n",
              "      </script>\n",
              "    </div>\n",
              "  </div>\n",
              "  "
            ]
          },
          "metadata": {},
          "execution_count": 35
        }
      ]
    },
    {
      "cell_type": "code",
      "source": [
        "import seaborn as sns\n",
        "import matplotlib\n",
        "import matplotlib.pyplot as plt\n",
        "%matplotlib inline\n",
        "sns.set_style(\"darkgrid\")\n",
        "matplotlib.rcParams[\"font.size\"]=14\n",
        "matplotlib.rcParams[\"figure.figsize\"]=(9,5)\n",
        "matplotlib.rcParams[\"figure.facecolor\"]=\"#00000000\""
      ],
      "metadata": {
        "id": "iAblDsosMnoM"
      },
      "execution_count": 13,
      "outputs": []
    },
    {
      "cell_type": "code",
      "source": [
        "raw_data=[\"winner_name\",\"winner_team\",\"distance\",\"time_overall\",\"time_margin\",\"stage_wins\",\"stages_led\",\"height\",\"weight\",\"age\",\n",
        "          \"born\",\"died\",\"birth_town\",\"birth_country\",\"nationality\"]\n",
        "corrmat=df[raw_data].corr()\n",
        "fig=plt.figure(figsize=(12,9))\n",
        "mask=np.triu(np.ones_like(corrmat,dtype=bool))\n",
        "sns.heatmap(corrmat,vmax=.8,mask=mask,square=True,annot=True)\n",
        "plt.show()"
      ],
      "metadata": {
        "colab": {
          "base_uri": "https://localhost:8080/",
          "height": 621
        },
        "id": "KAHkKf5CPcCa",
        "outputId": "6d23610a-8b2f-4769-bd06-40cdf8d13d4d"
      },
      "execution_count": 14,
      "outputs": [
        {
          "output_type": "display_data",
          "data": {
            "text/plain": [
              "<Figure size 864x648 with 2 Axes>"
            ],
            "image/png": "[encoded data removed]"
          },
          "metadata": {
            "needs_background": "light"
          }
        }
      ]
    },
    {
      "cell_type": "code",
      "source": [
        "plt.figure(figsize=(20,20))\n",
        "lst = ['age','weight','height','distance','time_overall','time_margin']\n",
        "for i in range(len(lst)):\n",
        "  plt.subplot(4,3,i+1)\n",
        "  plt.subplots_adjust(hspace=3, wspace=2)\n",
        "  plt.title(lst[i])\n",
        "  plt.plot(df[lst[i]])\n",
        "  plt.xticks(rotation=45)\n",
        "plt.suptitle('Comparações')"
      ],
      "metadata": {
        "colab": {
          "base_uri": "https://localhost:8080/",
          "height": 685
        },
        "id": "gCLeaHq8kY7-",
        "outputId": "fe09046d-7963-4f39-e00c-39aff7b73591"
      },
      "execution_count": 38,
      "outputs": [
        {
          "output_type": "execute_result",
          "data": {
            "text/plain": [
              "Text(0.5, 0.98, 'Comparações')"
            ]
          },
          "metadata": {},
          "execution_count": 38
        },
        {
          "output_type": "display_data",
          "data": {
            "text/plain": [
              "<Figure size 1440x1440 with 6 Axes>"
            ],
            "image/png": "[encoded data removed]"
          },
          "metadata": {
            "needs_background": "light"
          }
        }
      ]
    }
  ]
}